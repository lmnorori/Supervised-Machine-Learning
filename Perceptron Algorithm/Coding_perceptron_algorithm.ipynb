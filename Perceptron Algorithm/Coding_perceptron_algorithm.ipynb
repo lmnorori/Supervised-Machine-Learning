{
 "cells": [
  {
   "cell_type": "markdown",
   "metadata": {},
   "source": [
    "# Chapter 5: Sentiment analysis with the perceptron algorithm\n",
    "\n",
    "## Importing the necessary packages"
   ]
  },
  {
   "cell_type": "code",
   "execution_count": 1,
   "metadata": {},
   "outputs": [],
   "source": [
    "# Importing packages\n",
    "from matplotlib import pyplot as plt\n",
    "import numpy as np\n",
    "import random\n",
    "import utils"
   ]
  },
  {
   "cell_type": "markdown",
   "metadata": {},
   "source": [
    "## Defining and plotting our dataset"
   ]
  },
  {
   "cell_type": "code",
   "execution_count": 2,
   "metadata": {},
   "outputs": [],
   "source": [
    "features = np.array([[1,0],[0,2],[1,1],[1,2],[1,3],[2,2],[2,3],[3,2]])\n",
    "labels = np.array([0,0,0,0,1,1,1,1])"
   ]
  },
  {
   "cell_type": "code",
   "execution_count": 3,
   "metadata": {},
   "outputs": [
    {
     "data": {
      "image/png": "[encoded data removed]",
      "text/plain": [
       "<Figure size 432x288 with 1 Axes>"
      ]
     },
     "metadata": {
      "needs_background": "light"
     },
     "output_type": "display_data"
    }
   ],
   "source": [
    "# Plotting the points\n",
    "utils.plot_points(features, labels)\n",
    "\n",
    "# Uncomment the following line to see a good line fit for this data.\n",
    "#utils.draw_line(1,1,-3.5)"
   ]
  },
  {
   "cell_type": "markdown",
   "metadata": {},
   "source": [
    "### Question 2:"
   ]
  },
  {
   "cell_type": "markdown",
   "metadata": {},
   "source": [
    ">**a. How many data points are there?**\n",
    "\n",
    "8 data points"
   ]
  },
  {
   "cell_type": "markdown",
   "metadata": {},
   "source": [
    ">**b. What is represented by the x-coordinates in the scatter plot? What is represented by the y-coordinates?**\n",
    "\n",
    "x-coordinate represents the number of aacks  \n",
    "y-coordinate represents the number of beeps"
   ]
  },
  {
   "cell_type": "markdown",
   "metadata": {},
   "source": [
    ">**c. In the label array, what is represented by a 0? What is represented by a 1?**\n",
    "\n",
    "0 represent sad sentences  \n",
    "1 represent happy sentences"
   ]
  },
  {
   "cell_type": "markdown",
   "metadata": {},
   "source": [
    "## Coding the perceptron trick"
   ]
  },
  {
   "cell_type": "code",
   "execution_count": 4,
   "metadata": {},
   "outputs": [],
   "source": [
    "def score(weights, bias, features):\n",
    "    return features.dot(weights) + bias\n",
    "\n",
    "def step(x):\n",
    "    if x >= 0:\n",
    "        return 1\n",
    "    else:\n",
    "        return 0\n",
    "\n",
    "def prediction(weights, bias, features):\n",
    "    return step(score(weights, bias, features))\n",
    "\n",
    "def error(weights, bias, features, label):\n",
    "    pred = prediction(weights, bias, features)\n",
    "    if pred == label:\n",
    "        return 0\n",
    "    else:\n",
    "        return np.abs(score(weights, bias, features))\n",
    "\n",
    "def mean_perceptron_error(weights, bias, features, labels):\n",
    "    total_error = 0\n",
    "    for i in range(len(features)):\n",
    "        total_error += error(weights, bias, features[i], labels[i])\n",
    "    return total_error/len(features)"
   ]
  },
  {
   "cell_type": "code",
   "execution_count": 5,
   "metadata": {},
   "outputs": [
    {
     "name": "stdout",
     "output_type": "stream",
     "text": [
      "0 0\n",
      "1 0\n",
      "0 0\n",
      "1 1\n",
      "1 0\n",
      "1 0\n",
      "1 0\n",
      "1 0\n"
     ]
    }
   ],
   "source": [
    "#weights = [1,1]\n",
    "#bias = -3.5\n",
    "weights = [1,2]\n",
    "bias = -4\n",
    "for i in range(len(features)):\n",
    "    print(prediction(weights, bias, features[i]), error(weights, bias, features[i], labels[i]))"
   ]
  },
  {
   "cell_type": "code",
   "execution_count": 6,
   "metadata": {},
   "outputs": [],
   "source": [
    "# First perceptron trick\n",
    "def perceptron_trick(weights, bias, features, label, learning_rate = 0.01):\n",
    "    pred = prediction(weights, bias, features)\n",
    "    if pred == label:\n",
    "        return weights, bias\n",
    "    else:\n",
    "        if label==1 and pred==0:\n",
    "            for i in range(len(weights)):\n",
    "                weights[i] += features[i]*learning_rate\n",
    "            bias += learning_rate\n",
    "        elif label==0 and pred==1:\n",
    "            for i in range(len(weights)):\n",
    "                weights[i] -= features[i]*learning_rate\n",
    "            bias -= learning_rate\n",
    "    return weights, bias"
   ]
  },
  {
   "cell_type": "code",
   "execution_count": 7,
   "metadata": {},
   "outputs": [],
   "source": [
    "# Shorter version of the perceptron trick\n",
    "def perceptron_trick(weights, bias, features, label, learning_rate = 0.01):\n",
    "    pred = prediction(weights, bias, features)\n",
    "    for i in range(len(weights)):\n",
    "        weights[i] += (label-pred)*features[i]*learning_rate\n",
    "        bias += (label-pred)*learning_rate\n",
    "    return weights, bias"
   ]
  },
  {
   "cell_type": "code",
   "execution_count": 8,
   "metadata": {},
   "outputs": [
    {
     "data": {
      "text/plain": [
       "([0.98, 1.97], -4.02)"
      ]
     },
     "execution_count": 8,
     "metadata": {},
     "output_type": "execute_result"
    }
   ],
   "source": [
    "perceptron_trick(weights, bias, features[6], 0)"
   ]
  },
  {
   "cell_type": "markdown",
   "metadata": {},
   "source": [
    "### Running the perceptron algorithm"
   ]
  },
  {
   "cell_type": "code",
   "execution_count": 9,
   "metadata": {},
   "outputs": [],
   "source": [
    "random.seed(0)\n",
    "def perceptron_algorithm(features, labels, learning_rate = 0.01, epochs = 200):\n",
    "    weights = [1.0 for i in range(len(features[0]))]\n",
    "    bias = 0.0\n",
    "    errors = []\n",
    "    for epoch in range(epochs):\n",
    "        # Coment the following line to draw only the final classifier\n",
    "        utils.draw_line(weights[0], weights[1], bias, color='grey', linewidth=1.0, linestyle='dotted')\n",
    "        error = mean_perceptron_error(weights, bias, features, labels)\n",
    "        errors.append(error)\n",
    "        i = random.randint(0, len(features)-1)\n",
    "        weights, bias = perceptron_trick(weights, bias, features[i], labels[i])\n",
    "    utils.draw_line(weights[0], weights[1], bias)\n",
    "    utils.plot_points(features, labels)\n",
    "    plt.show()\n",
    "    plt.scatter(range(epochs), errors)\n",
    "    return weights, bias"
   ]
  },
  {
   "cell_type": "code",
   "execution_count": 10,
   "metadata": {},
   "outputs": [
    {
     "data": {
      "image/png": "[encoded data removed]",
      "text/plain": [
       "<Figure size 432x288 with 1 Axes>"
      ]
     },
     "metadata": {
      "needs_background": "light"
     },
     "output_type": "display_data"
    },
    {
     "data": {
      "text/plain": [
       "([0.6299999999999997, 0.17999999999999938], -1.0400000000000007)"
      ]
     },
     "execution_count": 10,
     "metadata": {},
     "output_type": "execute_result"
    },
    {
     "data": {
      "image/png": "[encoded data removed]",
      "text/plain": [
       "<Figure size 432x288 with 1 Axes>"
      ]
     },
     "metadata": {
      "needs_background": "light"
     },
     "output_type": "display_data"
    }
   ],
   "source": [
    "perceptron_algorithm(features, labels)"
   ]
  },
  {
   "cell_type": "markdown",
   "metadata": {},
   "source": [
    "### Question 3:"
   ]
  },
  {
   "cell_type": "markdown",
   "metadata": {},
   "source": [
    ">**a. What initial weight is given to the number of 'aacks'?  What initial weight is given to the number of 'beeps'?  What is the initial bias?**\n",
    "\n",
    "The initial weights for both the number of aacks and beeps is 1  \n",
    "The initial bias is 0"
   ]
  },
  {
   "cell_type": "markdown",
   "metadata": {},
   "source": [
    ">**b. What learning rate is used? Explain how the learning rate affects the algorithm**\n",
    "\n",
    "The learning rate used is 0.01. The learning rate controls how big the adjustments are."
   ]
  },
  {
   "cell_type": "markdown",
   "metadata": {},
   "source": [
    ">**c. Explain what an epoch is. How many epochs are used in the training?**\n",
    "\n",
    "An epoch is the number of iterations done by an algorithm during the training.  \n",
    "In this example, 200 epochs were used."
   ]
  },
  {
   "cell_type": "markdown",
   "metadata": {},
   "source": [
    ">**d. After training, what values are assigned to the 'aacks' weights, 'beeps' weight and the bias?**\n",
    "\n",
    "Weight for aacks: 0.6299999999999997  \n",
    "Weight for beeps: 0.17999999999999938  \n",
    "Bias: -1.0400000000000007"
   ]
  },
  {
   "cell_type": "markdown",
   "metadata": {},
   "source": [
    ">**e. What percentage of points have the correct prediction?**\n",
    "\n",
    "Based on on the graphs above, we can observe that the model was able to classify correctly the points to a 100%. The line obtained after 200 epochs correctly divides the happy and sad area. On top of that, the error vs. epoch graph tells us that after aproximately 140 epochs all the data points have been classified with the right tag. "
   ]
  },
  {
   "cell_type": "markdown",
   "metadata": {},
   "source": [
    ">**f. From the plot of the errors vs. epoch, could less epochs have been used to achieve similar performance? Would more training have made a significant improvement?**\n",
    "\n",
    "In order for the line to find a right fit, the model shouln't run less than 150 epochs. As we can observe in the graph, the error reaches zero couple epochs before the 150 mark. At that point, we can conclude that every data point has been correctly clasified. Less than that will result in a model that underperforms. On the other hand, more than 200 epochs would only result in a longer training time with the same output. "
   ]
  },
  {
   "cell_type": "markdown",
   "metadata": {},
   "source": [
    ">**g. Explain the meaning of stochastic, mini-batch and batch gradient descent**\n",
    "\n",
    "Minimizing the error while training the model in order to find the best line fit using:  \n",
    "\n",
    "**Stochastic gradient descent:** one point at a time  \n",
    "**Mini-batch gradient descent:**  a batch of points  \n",
    "**Batch gradient descent:** all the points in the data set"
   ]
  },
  {
   "cell_type": "markdown",
   "metadata": {},
   "source": [
    "### The perceptron algorithm using Turi Create"
   ]
  },
  {
   "cell_type": "code",
   "execution_count": 11,
   "metadata": {},
   "outputs": [],
   "source": [
    "import turicreate as tc "
   ]
  },
  {
   "cell_type": "code",
   "execution_count": 12,
   "metadata": {},
   "outputs": [
    {
     "data": {
      "text/html": [
       "<div style=\"max-height:1000px;max-width:1500px;overflow:auto;\"><table frame=\"box\" rules=\"cols\">\n",
       "    <tr>\n",
       "        <th style=\"padding-left: 1em; padding-right: 1em; text-align: center\">aack</th>\n",
       "        <th style=\"padding-left: 1em; padding-right: 1em; text-align: center\">beep</th>\n",
       "        <th style=\"padding-left: 1em; padding-right: 1em; text-align: center\">prediction</th>\n",
       "    </tr>\n",
       "    <tr>\n",
       "        <td style=\"padding-left: 1em; padding-right: 1em; text-align: center; vertical-align: top\">1</td>\n",
       "        <td style=\"padding-left: 1em; padding-right: 1em; text-align: center; vertical-align: top\">0</td>\n",
       "        <td style=\"padding-left: 1em; padding-right: 1em; text-align: center; vertical-align: top\">0</td>\n",
       "    </tr>\n",
       "    <tr>\n",
       "        <td style=\"padding-left: 1em; padding-right: 1em; text-align: center; vertical-align: top\">0</td>\n",
       "        <td style=\"padding-left: 1em; padding-right: 1em; text-align: center; vertical-align: top\">2</td>\n",
       "        <td style=\"padding-left: 1em; padding-right: 1em; text-align: center; vertical-align: top\">0</td>\n",
       "    </tr>\n",
       "    <tr>\n",
       "        <td style=\"padding-left: 1em; padding-right: 1em; text-align: center; vertical-align: top\">1</td>\n",
       "        <td style=\"padding-left: 1em; padding-right: 1em; text-align: center; vertical-align: top\">1</td>\n",
       "        <td style=\"padding-left: 1em; padding-right: 1em; text-align: center; vertical-align: top\">0</td>\n",
       "    </tr>\n",
       "    <tr>\n",
       "        <td style=\"padding-left: 1em; padding-right: 1em; text-align: center; vertical-align: top\">1</td>\n",
       "        <td style=\"padding-left: 1em; padding-right: 1em; text-align: center; vertical-align: top\">2</td>\n",
       "        <td style=\"padding-left: 1em; padding-right: 1em; text-align: center; vertical-align: top\">0</td>\n",
       "    </tr>\n",
       "    <tr>\n",
       "        <td style=\"padding-left: 1em; padding-right: 1em; text-align: center; vertical-align: top\">1</td>\n",
       "        <td style=\"padding-left: 1em; padding-right: 1em; text-align: center; vertical-align: top\">3</td>\n",
       "        <td style=\"padding-left: 1em; padding-right: 1em; text-align: center; vertical-align: top\">1</td>\n",
       "    </tr>\n",
       "    <tr>\n",
       "        <td style=\"padding-left: 1em; padding-right: 1em; text-align: center; vertical-align: top\">2</td>\n",
       "        <td style=\"padding-left: 1em; padding-right: 1em; text-align: center; vertical-align: top\">2</td>\n",
       "        <td style=\"padding-left: 1em; padding-right: 1em; text-align: center; vertical-align: top\">1</td>\n",
       "    </tr>\n",
       "    <tr>\n",
       "        <td style=\"padding-left: 1em; padding-right: 1em; text-align: center; vertical-align: top\">2</td>\n",
       "        <td style=\"padding-left: 1em; padding-right: 1em; text-align: center; vertical-align: top\">3</td>\n",
       "        <td style=\"padding-left: 1em; padding-right: 1em; text-align: center; vertical-align: top\">1</td>\n",
       "    </tr>\n",
       "    <tr>\n",
       "        <td style=\"padding-left: 1em; padding-right: 1em; text-align: center; vertical-align: top\">3</td>\n",
       "        <td style=\"padding-left: 1em; padding-right: 1em; text-align: center; vertical-align: top\">2</td>\n",
       "        <td style=\"padding-left: 1em; padding-right: 1em; text-align: center; vertical-align: top\">1</td>\n",
       "    </tr>\n",
       "</table>\n",
       "[8 rows x 3 columns]<br/>\n",
       "</div>"
      ],
      "text/plain": [
       "Columns:\n",
       "\taack\tint\n",
       "\tbeep\tint\n",
       "\tprediction\tint\n",
       "\n",
       "Rows: 8\n",
       "\n",
       "Data:\n",
       "+------+------+------------+\n",
       "| aack | beep | prediction |\n",
       "+------+------+------------+\n",
       "|  1   |  0   |     0      |\n",
       "|  0   |  2   |     0      |\n",
       "|  1   |  1   |     0      |\n",
       "|  1   |  2   |     0      |\n",
       "|  1   |  3   |     1      |\n",
       "|  2   |  2   |     1      |\n",
       "|  2   |  3   |     1      |\n",
       "|  3   |  2   |     1      |\n",
       "+------+------+------------+\n",
       "[8 rows x 3 columns]"
      ]
     },
     "execution_count": 12,
     "metadata": {},
     "output_type": "execute_result"
    }
   ],
   "source": [
    "datadict = {'aack': features[:,0], 'beep':features[:,1], 'prediction': labels}\n",
    "data = tc.SFrame(datadict)\n",
    "data"
   ]
  },
  {
   "cell_type": "code",
   "execution_count": 13,
   "metadata": {},
   "outputs": [
    {
     "data": {
      "text/html": [
       "<pre>Logistic regression:</pre>"
      ],
      "text/plain": [
       "Logistic regression:"
      ]
     },
     "metadata": {},
     "output_type": "display_data"
    },
    {
     "data": {
      "text/html": [
       "<pre>--------------------------------------------------------</pre>"
      ],
      "text/plain": [
       "--------------------------------------------------------"
      ]
     },
     "metadata": {},
     "output_type": "display_data"
    },
    {
     "data": {
      "text/html": [
       "<pre>Number of examples          : 8</pre>"
      ],
      "text/plain": [
       "Number of examples          : 8"
      ]
     },
     "metadata": {},
     "output_type": "display_data"
    },
    {
     "data": {
      "text/html": [
       "<pre>Number of classes           : 2</pre>"
      ],
      "text/plain": [
       "Number of classes           : 2"
      ]
     },
     "metadata": {},
     "output_type": "display_data"
    },
    {
     "data": {
      "text/html": [
       "<pre>Number of feature columns   : 2</pre>"
      ],
      "text/plain": [
       "Number of feature columns   : 2"
      ]
     },
     "metadata": {},
     "output_type": "display_data"
    },
    {
     "data": {
      "text/html": [
       "<pre>Number of unpacked features : 2</pre>"
      ],
      "text/plain": [
       "Number of unpacked features : 2"
      ]
     },
     "metadata": {},
     "output_type": "display_data"
    },
    {
     "data": {
      "text/html": [
       "<pre>Number of coefficients      : 3</pre>"
      ],
      "text/plain": [
       "Number of coefficients      : 3"
      ]
     },
     "metadata": {},
     "output_type": "display_data"
    },
    {
     "data": {
      "text/html": [
       "<pre>Starting Newton Method</pre>"
      ],
      "text/plain": [
       "Starting Newton Method"
      ]
     },
     "metadata": {},
     "output_type": "display_data"
    },
    {
     "data": {
      "text/html": [
       "<pre>--------------------------------------------------------</pre>"
      ],
      "text/plain": [
       "--------------------------------------------------------"
      ]
     },
     "metadata": {},
     "output_type": "display_data"
    },
    {
     "data": {
      "text/html": [
       "<pre>+-----------+----------+--------------+-------------------+</pre>"
      ],
      "text/plain": [
       "+-----------+----------+--------------+-------------------+"
      ]
     },
     "metadata": {},
     "output_type": "display_data"
    },
    {
     "data": {
      "text/html": [
       "<pre>| Iteration | Passes   | Elapsed Time | Training Accuracy |</pre>"
      ],
      "text/plain": [
       "| Iteration | Passes   | Elapsed Time | Training Accuracy |"
      ]
     },
     "metadata": {},
     "output_type": "display_data"
    },
    {
     "data": {
      "text/html": [
       "<pre>+-----------+----------+--------------+-------------------+</pre>"
      ],
      "text/plain": [
       "+-----------+----------+--------------+-------------------+"
      ]
     },
     "metadata": {},
     "output_type": "display_data"
    },
    {
     "data": {
      "text/html": [
       "<pre>| 1         | 2        | 1.001740     | 1.000000          |</pre>"
      ],
      "text/plain": [
       "| 1         | 2        | 1.001740     | 1.000000          |"
      ]
     },
     "metadata": {},
     "output_type": "display_data"
    },
    {
     "data": {
      "text/html": [
       "<pre>| 2         | 3        | 1.003242     | 1.000000          |</pre>"
      ],
      "text/plain": [
       "| 2         | 3        | 1.003242     | 1.000000          |"
      ]
     },
     "metadata": {},
     "output_type": "display_data"
    },
    {
     "data": {
      "text/html": [
       "<pre>| 3         | 4        | 1.004378     | 1.000000          |</pre>"
      ],
      "text/plain": [
       "| 3         | 4        | 1.004378     | 1.000000          |"
      ]
     },
     "metadata": {},
     "output_type": "display_data"
    },
    {
     "data": {
      "text/html": [
       "<pre>| 4         | 5        | 1.005708     | 1.000000          |</pre>"
      ],
      "text/plain": [
       "| 4         | 5        | 1.005708     | 1.000000          |"
      ]
     },
     "metadata": {},
     "output_type": "display_data"
    },
    {
     "data": {
      "text/html": [
       "<pre>+-----------+----------+--------------+-------------------+</pre>"
      ],
      "text/plain": [
       "+-----------+----------+--------------+-------------------+"
      ]
     },
     "metadata": {},
     "output_type": "display_data"
    },
    {
     "data": {
      "text/html": [
       "<pre>SUCCESS: Optimal solution found.</pre>"
      ],
      "text/plain": [
       "SUCCESS: Optimal solution found."
      ]
     },
     "metadata": {},
     "output_type": "display_data"
    },
    {
     "data": {
      "text/html": [
       "<pre></pre>"
      ],
      "text/plain": []
     },
     "metadata": {},
     "output_type": "display_data"
    }
   ],
   "source": [
    "perceptron = tc.logistic_classifier.create(data, target='prediction')"
   ]
  },
  {
   "cell_type": "code",
   "execution_count": 14,
   "metadata": {},
   "outputs": [
    {
     "data": {
      "text/html": [
       "<div style=\"max-height:1000px;max-width:1500px;overflow:auto;\"><table frame=\"box\" rules=\"cols\">\n",
       "    <tr>\n",
       "        <th style=\"padding-left: 1em; padding-right: 1em; text-align: center\">name</th>\n",
       "        <th style=\"padding-left: 1em; padding-right: 1em; text-align: center\">index</th>\n",
       "        <th style=\"padding-left: 1em; padding-right: 1em; text-align: center\">class</th>\n",
       "        <th style=\"padding-left: 1em; padding-right: 1em; text-align: center\">value</th>\n",
       "        <th style=\"padding-left: 1em; padding-right: 1em; text-align: center\">stderr</th>\n",
       "    </tr>\n",
       "    <tr>\n",
       "        <td style=\"padding-left: 1em; padding-right: 1em; text-align: center; vertical-align: top\">(intercept)</td>\n",
       "        <td style=\"padding-left: 1em; padding-right: 1em; text-align: center; vertical-align: top\">None</td>\n",
       "        <td style=\"padding-left: 1em; padding-right: 1em; text-align: center; vertical-align: top\">1</td>\n",
       "        <td style=\"padding-left: 1em; padding-right: 1em; text-align: center; vertical-align: top\">-8.959708265685022</td>\n",
       "        <td style=\"padding-left: 1em; padding-right: 1em; text-align: center; vertical-align: top\">6.844844514902377</td>\n",
       "    </tr>\n",
       "    <tr>\n",
       "        <td style=\"padding-left: 1em; padding-right: 1em; text-align: center; vertical-align: top\">aack</td>\n",
       "        <td style=\"padding-left: 1em; padding-right: 1em; text-align: center; vertical-align: top\">None</td>\n",
       "        <td style=\"padding-left: 1em; padding-right: 1em; text-align: center; vertical-align: top\">1</td>\n",
       "        <td style=\"padding-left: 1em; padding-right: 1em; text-align: center; vertical-align: top\">2.972553703911967</td>\n",
       "        <td style=\"padding-left: 1em; padding-right: 1em; text-align: center; vertical-align: top\">2.6977310191336046</td>\n",
       "    </tr>\n",
       "    <tr>\n",
       "        <td style=\"padding-left: 1em; padding-right: 1em; text-align: center; vertical-align: top\">beep</td>\n",
       "        <td style=\"padding-left: 1em; padding-right: 1em; text-align: center; vertical-align: top\">None</td>\n",
       "        <td style=\"padding-left: 1em; padding-right: 1em; text-align: center; vertical-align: top\">1</td>\n",
       "        <td style=\"padding-left: 1em; padding-right: 1em; text-align: center; vertical-align: top\">2.498635186535742</td>\n",
       "        <td style=\"padding-left: 1em; padding-right: 1em; text-align: center; vertical-align: top\">2.4552961030591502</td>\n",
       "    </tr>\n",
       "</table>\n",
       "[3 rows x 5 columns]<br/>\n",
       "</div>"
      ],
      "text/plain": [
       "Columns:\n",
       "\tname\tstr\n",
       "\tindex\tstr\n",
       "\tclass\tint\n",
       "\tvalue\tfloat\n",
       "\tstderr\tfloat\n",
       "\n",
       "Rows: 3\n",
       "\n",
       "Data:\n",
       "+-------------+-------+-------+--------------------+--------------------+\n",
       "|     name    | index | class |       value        |       stderr       |\n",
       "+-------------+-------+-------+--------------------+--------------------+\n",
       "| (intercept) |  None |   1   | -8.959708265685022 | 6.844844514902377  |\n",
       "|     aack    |  None |   1   | 2.972553703911967  | 2.6977310191336046 |\n",
       "|     beep    |  None |   1   | 2.498635186535742  | 2.4552961030591502 |\n",
       "+-------------+-------+-------+--------------------+--------------------+\n",
       "[3 rows x 5 columns]"
      ]
     },
     "execution_count": 14,
     "metadata": {},
     "output_type": "execute_result"
    }
   ],
   "source": [
    "perceptron.coefficients"
   ]
  },
  {
   "cell_type": "markdown",
   "metadata": {},
   "source": [
    "### Question 4:"
   ]
  },
  {
   "cell_type": "markdown",
   "metadata": {},
   "source": [
    ">**a. After training, what values are assigned to the 'aacks' weight, 'beeps' weight and bias? Are these values different or the same as those found in the _\"Running the perceptron algorithm\"_ section?**\n",
    "\n",
    "Weights aacks: 2.972553703911967  \n",
    "Weights beeps: 2.498635186535742  \n",
    "Bias: -8.959708265685022\n",
    "\n",
    "These values differ from the ones in _\"Running the perceptron algorithm\"_ section"
   ]
  },
  {
   "cell_type": "markdown",
   "metadata": {},
   "source": [
    ">**b. What percentage of points have the correct prediction? How does this compare with the results of the _\"Running the perceptron algorithm\"_ section?**\n",
    "\n",
    "Based on the training accurracy of 1 in every epoch, we can conclude that 100% of the points have the correct prediction. This result is similar to the one in \"Running the perceptron algorithm\" section."
   ]
  },
  {
   "cell_type": "markdown",
   "metadata": {},
   "source": [
    ">**c. Is there only a single choice of weights and bias that gets the predictions correct, or are there other choices of weights and bias that would also get the predictions correct? Explain**\n",
    "\n",
    "Taking question 4a and 4b as reference, the results using turicreate differ from the ones in the \"Running the perceptron algorithm\" section, yet still all the points in both approaches managed to classify them correctly. That being said , the model can have different weights and bias and still get the preditions correct.\n",
    "\n",
    "It's also important to mention that in \"Running the perceptron algorithm\" section, a random.seed(0) is being used, which means that our model has been limited to produce the same output when running the code. Without it, this would result in different weights and bias that can get the predictions correct even if these are different."
   ]
  }
 ],
 "metadata": {
  "kernelspec": {
   "display_name": "Python 3",
   "language": "python",
   "name": "python3"
  },
  "language_info": {
   "codemirror_mode": {
    "name": "ipython",
    "version": 3
   },
   "file_extension": ".py",
   "mimetype": "text/x-python",
   "name": "python",
   "nbconvert_exporter": "python",
   "pygments_lexer": "ipython3",
   "version": "3.8.8"
  }
 },
 "nbformat": 4,
 "nbformat_minor": 2
}
